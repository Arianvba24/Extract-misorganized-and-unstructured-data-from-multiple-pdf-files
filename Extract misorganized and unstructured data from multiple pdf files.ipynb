{
 "cells": [
  {
   "cell_type": "code",
   "execution_count": 18,
   "id": "b8e55e3b",
   "metadata": {},
   "outputs": [
    {
     "name": "stdout",
     "output_type": "stream",
     "text": [
      "['Laura,', 'Martin,', 'Claudio,']\n",
      "Los siguientes nombres son los que iran en la lista: \n",
      "\n",
      "Nombre \n",
      "Laura \n",
      "Lucas \n",
      "Martin \n",
      "Adrian \n",
      "\n",
      "Teléfono \n",
      "632 552 102 \n",
      "754 845 987 \n",
      "635 891 123 \n",
      "654 888 712 \n",
      "\n",
      "Mail \n",
      "laura@gmail.com \n",
      "lucas@gmail.com \n",
      "martin@gmail.com \n",
      "adrian@gmail.com \n",
      "\n",
      "Acordaros que Laura, Martin, Claudio, tienen un trato especial. \n",
      "\n",
      "Este es el correo al cual teneis que acudir en caso de que haya algún problema: \n",
      "\n",
      "mario_vaquerizo@gmail.com \n",
      "\n",
      " \n",
      " \n",
      "\f",
      "\n"
     ]
    }
   ],
   "source": [
    "#Extracting data from one pdf file\n",
    "import re\n",
    "from pdfminer.high_level import extract_pages, extract_text\n",
    "text = extract_text(r\"C:\\Users\\Cash\\Downloads\\pruebas_1.pdf\")\n",
    "pattern = re.compile(r\"[a-zA-Z]*[,]\")\n",
    "valores = pattern.findall(text)\n",
    "\n",
    "print(valores)\n",
    "print(text)\n",
    "\n"
   ]
  },
  {
   "cell_type": "code",
   "execution_count": 17,
   "id": "b4192a47",
   "metadata": {},
   "outputs": [
    {
     "data": {
      "text/plain": [
       "['Laura,',\n",
       " 'Martin,',\n",
       " 'Claudio,',\n",
       " 'Laura,',\n",
       " 'Martin,',\n",
       " 'Claudio,',\n",
       " 'Karina,',\n",
       " 'Julio,',\n",
       " 'Claudio,',\n",
       " 'David,',\n",
       " 'Nelso,',\n",
       " 'Dani,',\n",
       " 'Maria,',\n",
       " 'Scarlet,',\n",
       " 'Juana,',\n",
       " 'Alba,',\n",
       " 'Lili,',\n",
       " 'Nerea,',\n",
       " 'Maria,',\n",
       " 'Eduardo,']"
      ]
     },
     "execution_count": 17,
     "metadata": {},
     "output_type": "execute_result"
    }
   ],
   "source": [
    "#Extracting data from multiple pdf files\n",
    "import re\n",
    "import os\n",
    "\n",
    "values = list(filter(lambda x: x[-3:] == \"pdf\",os.listdir(r\"C:\\Users\\Cash\\Documents\\pruebas_python\\proyectos\\pdf\")))\n",
    "\n",
    "all_values = []\n",
    "\n",
    "for value in values:\n",
    "    from pdfminer.high_level import extract_pages, extract_text\n",
    "    text = extract_text(fr\"C:\\Users\\Cash\\Documents\\pruebas_python\\proyectos\\pdf/{value}\")\n",
    "    pattern = re.compile(r\"[a-zA-Z]*[,]\")\n",
    "    valores = pattern.findall(text)\n",
    "    all_values.extend(valores)\n",
    "\n",
    "\n",
    "all_values\n",
    "\n"
   ]
  }
 ],
 "metadata": {
  "kernelspec": {
   "display_name": "Python 3 (ipykernel)",
   "language": "python",
   "name": "python3"
  },
  "language_info": {
   "codemirror_mode": {
    "name": "ipython",
    "version": 3
   },
   "file_extension": ".py",
   "mimetype": "text/x-python",
   "name": "python",
   "nbconvert_exporter": "python",
   "pygments_lexer": "ipython3",
   "version": "3.11.6"
  }
 },
 "nbformat": 4,
 "nbformat_minor": 5
}
